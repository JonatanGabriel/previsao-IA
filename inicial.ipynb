{
 "cells": [
  {
   "cell_type": "markdown",
   "metadata": {},
   "source": [
    "# Projeto Python IA: Inteligência Artificial e Previsões\n",
    "\n",
    "### Case: Score de Crédito dos Clientes\n",
    "\n",
    "Você foi contratado por um banco para conseguir definir o score de crédito dos clientes. Você precisa analisar todos os clientes do banco e, com base nessa análise, criar um modelo que consiga ler as informações do cliente e dizer automaticamente o score de crédito dele: Ruim, Ok, Bom\n"
   ]
  },
  {
   "cell_type": "code",
   "execution_count": null,
   "metadata": {},
   "outputs": [],
   "source": [
    "# Passo a passo\n",
    "# Passo 0 - Entender o desafio e a empresa\n",
    "# Passo 1 - Importar a base de dados\n",
    "import pandas as pd\n",
    "\n",
    "tabela = pd.read_csv(\"clientes.csv\")\n",
    "display(tabela)"
   ]
  },
  {
   "cell_type": "code",
   "execution_count": null,
   "metadata": {},
   "outputs": [],
   "source": [
    "print(tabela.info())"
   ]
  },
  {
   "cell_type": "code",
   "execution_count": null,
   "metadata": {},
   "outputs": [],
   "source": [
    "# Passo 2 - Preparar a base de dados para a inteligencia artificial\n",
    "# LabelEncoder\n",
    "from sklearn.preprocessing import LabelEncoder\n",
    "\n",
    "codificador = LabelEncoder() # Vai tranformar as colunas de str em numeros.\n",
    "tabela[\"profissao\"] = codificador.fit_transform(tabela[\"profissao\"])\n",
    "tabela[\"mix_credito\"] = codificador.fit_transform(tabela[\"mix_credito\"])\n",
    "tabela[\"comportamento_pagamento\"] = codificador.fit_transform(tabela[\"comportamento_pagamento\"])\n",
    "print(tabela.info())"
   ]
  },
  {
   "cell_type": "code",
   "execution_count": null,
   "metadata": {},
   "outputs": [],
   "source": [
    "# Separar as informações em dados de treino e dados de teste\n",
    "y = tabela[\"score_credito\"]\n",
    "# todas as colunas que vamos usar para fazer a previsao do score de credito\n",
    "x = tabela.drop([\"score_credito\", \"id_cliente\"], axis=1)\n",
    "\n",
    "from sklearn.model_selection import train_test_split\n",
    "\n",
    "x_treino, x_teste, y_treino, y_teste = train_test_split(x, y, test_size=0.3)"
   ]
  },
  {
   "cell_type": "code",
   "execution_count": null,
   "metadata": {},
   "outputs": [],
   "source": [
    "# Passo 3 - Criar um modelo de IA -> Score de crédito: Ruim, Médio, Bom\n",
    "# Arvore de Decisão\n",
    "# KNN - nearest neighbors\n",
    "from sklearn.ensemble import RandomForestClassifier\n",
    "from sklearn.neighbors import KNeighborsClassifier\n",
    "\n",
    "modelo_arvoredecisao = RandomForestClassifier()\n",
    "modelo_knn = KNeighborsClassifier()\n",
    "\n",
    "modelo_arvoredecisao.fit(x_treino, y_treino)\n",
    "modelo_knn.fit(x_treino, y_treino)\n",
    "\n",
    "# Passo 4 - Escolher o melhor modelo\n",
    "# Passo 5 - Usar o modelo em um cenário real"
   ]
  },
  {
   "cell_type": "code",
   "execution_count": null,
   "metadata": {},
   "outputs": [],
   "source": [
    "# Passo 4 - Escolher o melhor modelo\n",
    "# acurácia do modelo\n",
    "from sklearn.metrics import accuracy_score\n",
    "\n",
    "previsao_arvoredecisao = modelo_arvoredecisao.predict(x_teste)\n",
    "previsao_knn = modelo_knn.predict(x_teste.to_numpy()) # o modelo knn tem que transformar no formato numpy para não dar erro.\n",
    "\n",
    "print(accuracy_score(y_teste, previsao_arvoredecisao))\n",
    "print(accuracy_score(y_teste, previsao_knn))\n",
    "\n",
    "# Passo 5 - Usar o modelo em um cenário real"
   ]
  },
  {
   "cell_type": "code",
   "execution_count": null,
   "metadata": {},
   "outputs": [],
   "source": [
    "# O melhor modelo é o modelo_arvoredecisao = 83% acurácia\n",
    "# Processo de previsão com novos clientes\n",
    "novos_clientes = pd.read_csv(\"novos_clientes.csv\")\n",
    "novos_clientes[\"profissao\"] = codificador.fit_transform(novos_clientes[\"profissao\"])\n",
    "novos_clientes[\"mix_credito\"] = codificador.fit_transform(novos_clientes[\"mix_credito\"])\n",
    "novos_clientes[\"comportamento_pagamento\"] = codificador.fit_transform(novos_clientes[\"comportamento_pagamento\"])\n",
    "display(novos_clientes)\n",
    "\n",
    "previsao = modelo_arvoredecisao.predict(novos_clientes)\n",
    "print(previsao)"
   ]
  }
 ],
 "metadata": {
  "kernelspec": {
   "display_name": "Python 3",
   "language": "python",
   "name": "python3"
  },
  "language_info": {
   "codemirror_mode": {
    "name": "ipython",
    "version": 3
   },
   "file_extension": ".py",
   "mimetype": "text/x-python",
   "name": "python",
   "nbconvert_exporter": "python",
   "pygments_lexer": "ipython3",
   "version": "3.11.4"
  },
  "orig_nbformat": 4
 },
 "nbformat": 4,
 "nbformat_minor": 2
}
